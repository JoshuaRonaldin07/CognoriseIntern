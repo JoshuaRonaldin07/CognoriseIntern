{
 "cells": [
  {
   "cell_type": "code",
   "execution_count": 1,
   "id": "e8031d6d",
   "metadata": {
    "_cell_guid": "b1076dfc-b9ad-4769-8c92-a6c4dae69d19",
    "_uuid": "8f2839f25d086af736a60e9eeb907d3b93b6e0e5",
    "execution": {
     "iopub.execute_input": "2023-11-30T06:06:51.403618Z",
     "iopub.status.busy": "2023-11-30T06:06:51.403102Z",
     "iopub.status.idle": "2023-11-30T06:06:51.819030Z",
     "shell.execute_reply": "2023-11-30T06:06:51.817946Z"
    },
    "papermill": {
     "duration": 0.43002,
     "end_time": "2023-11-30T06:06:51.823099",
     "exception": false,
     "start_time": "2023-11-30T06:06:51.393079",
     "status": "completed"
    },
    "tags": []
   },
   "outputs": [
    {
     "name": "stdout",
     "output_type": "stream",
     "text": [
      "/kaggle/input/housedata/output.csv\n",
      "/kaggle/input/housedata/data.csv\n",
      "/kaggle/input/housedata/data.dat\n"
     ]
    }
   ],
   "source": [
    "# This Python 3 environment comes with many helpful analytics libraries installed\n",
    "# It is defined by the kaggle/python Docker image: https://github.com/kaggle/docker-python\n",
    "# For example, here's several helpful packages to load\n",
    "\n",
    "import numpy as np # linear algebra\n",
    "import pandas as pd # data processing, CSV file I/O (e.g. pd.read_csv)\n",
    "\n",
    "# Input data files are available in the read-only \"../input/\" directory\n",
    "# For example, running this (by clicking run or pressing Shift+Enter) will list all files under the input directory\n",
    "\n",
    "import os\n",
    "for dirname, _, filenames in os.walk('/kaggle/input'):\n",
    "    for filename in filenames:\n",
    "        print(os.path.join(dirname, filename))\n",
    "\n",
    "# You can write up to 20GB to the current directory (/kaggle/working/) that gets preserved as output when you create a version using \"Save & Run All\" \n",
    "# You can also write temporary files to /kaggle/temp/, but they won't be saved outside of the current session"
   ]
  },
  {
   "cell_type": "code",
   "execution_count": 2,
   "id": "89aa135c",
   "metadata": {
    "execution": {
     "iopub.execute_input": "2023-11-30T06:06:51.838829Z",
     "iopub.status.busy": "2023-11-30T06:06:51.837822Z",
     "iopub.status.idle": "2023-11-30T06:07:06.921414Z",
     "shell.execute_reply": "2023-11-30T06:07:06.920451Z"
    },
    "papermill": {
     "duration": 15.093934,
     "end_time": "2023-11-30T06:07:06.923879",
     "exception": false,
     "start_time": "2023-11-30T06:06:51.829945",
     "status": "completed"
    },
    "tags": []
   },
   "outputs": [
    {
     "name": "stdout",
     "output_type": "stream",
     "text": [
      "Collecting lazypredict\r\n",
      "  Downloading lazypredict-0.2.12-py2.py3-none-any.whl (12 kB)\r\n",
      "Requirement already satisfied: click in /opt/conda/lib/python3.10/site-packages (from lazypredict) (8.1.7)\r\n",
      "Requirement already satisfied: scikit-learn in /opt/conda/lib/python3.10/site-packages (from lazypredict) (1.2.2)\r\n",
      "Requirement already satisfied: pandas in /opt/conda/lib/python3.10/site-packages (from lazypredict) (2.0.3)\r\n",
      "Requirement already satisfied: tqdm in /opt/conda/lib/python3.10/site-packages (from lazypredict) (4.66.1)\r\n",
      "Requirement already satisfied: joblib in /opt/conda/lib/python3.10/site-packages (from lazypredict) (1.3.2)\r\n",
      "Requirement already satisfied: lightgbm in /opt/conda/lib/python3.10/site-packages (from lazypredict) (3.3.2)\r\n",
      "Requirement already satisfied: xgboost in /opt/conda/lib/python3.10/site-packages (from lazypredict) (2.0.1)\r\n",
      "Requirement already satisfied: wheel in /opt/conda/lib/python3.10/site-packages (from lightgbm->lazypredict) (0.41.2)\r\n",
      "Requirement already satisfied: numpy in /opt/conda/lib/python3.10/site-packages (from lightgbm->lazypredict) (1.24.3)\r\n",
      "Requirement already satisfied: scipy in /opt/conda/lib/python3.10/site-packages (from lightgbm->lazypredict) (1.11.3)\r\n",
      "Requirement already satisfied: threadpoolctl>=2.0.0 in /opt/conda/lib/python3.10/site-packages (from scikit-learn->lazypredict) (3.2.0)\r\n",
      "Requirement already satisfied: python-dateutil>=2.8.2 in /opt/conda/lib/python3.10/site-packages (from pandas->lazypredict) (2.8.2)\r\n",
      "Requirement already satisfied: pytz>=2020.1 in /opt/conda/lib/python3.10/site-packages (from pandas->lazypredict) (2023.3)\r\n",
      "Requirement already satisfied: tzdata>=2022.1 in /opt/conda/lib/python3.10/site-packages (from pandas->lazypredict) (2023.3)\r\n",
      "Requirement already satisfied: six>=1.5 in /opt/conda/lib/python3.10/site-packages (from python-dateutil>=2.8.2->pandas->lazypredict) (1.16.0)\r\n",
      "Installing collected packages: lazypredict\r\n",
      "Successfully installed lazypredict-0.2.12\r\n",
      "Note: you may need to restart the kernel to use updated packages.\n"
     ]
    }
   ],
   "source": [
    "pip install lazypredict"
   ]
  },
  {
   "cell_type": "code",
   "execution_count": 3,
   "id": "8ef323ef",
   "metadata": {
    "execution": {
     "iopub.execute_input": "2023-11-30T06:07:06.941617Z",
     "iopub.status.busy": "2023-11-30T06:07:06.941204Z",
     "iopub.status.idle": "2023-11-30T06:07:11.095774Z",
     "shell.execute_reply": "2023-11-30T06:07:11.094656Z"
    },
    "papermill": {
     "duration": 4.16654,
     "end_time": "2023-11-30T06:07:11.098308",
     "exception": false,
     "start_time": "2023-11-30T06:07:06.931768",
     "status": "completed"
    },
    "tags": []
   },
   "outputs": [],
   "source": [
    "from lazypredict.Supervised import LazyRegressor\n",
    "from sklearn import datasets\n",
    "from sklearn.utils import shuffle\n",
    "import numpy as np"
   ]
  },
  {
   "cell_type": "code",
   "execution_count": 4,
   "id": "174abfc5",
   "metadata": {
    "execution": {
     "iopub.execute_input": "2023-11-30T06:07:11.115732Z",
     "iopub.status.busy": "2023-11-30T06:07:11.115347Z",
     "iopub.status.idle": "2023-11-30T06:07:11.161248Z",
     "shell.execute_reply": "2023-11-30T06:07:11.160162Z"
    },
    "papermill": {
     "duration": 0.057886,
     "end_time": "2023-11-30T06:07:11.163955",
     "exception": false,
     "start_time": "2023-11-30T06:07:11.106069",
     "status": "completed"
    },
    "tags": []
   },
   "outputs": [],
   "source": [
    "df = pd.read_csv('/kaggle/input/housedata/data.csv')"
   ]
  },
  {
   "cell_type": "code",
   "execution_count": 5,
   "id": "76c722e3",
   "metadata": {
    "execution": {
     "iopub.execute_input": "2023-11-30T06:07:11.180965Z",
     "iopub.status.busy": "2023-11-30T06:07:11.180576Z",
     "iopub.status.idle": "2023-11-30T06:07:11.211648Z",
     "shell.execute_reply": "2023-11-30T06:07:11.210631Z"
    },
    "papermill": {
     "duration": 0.042068,
     "end_time": "2023-11-30T06:07:11.213777",
     "exception": false,
     "start_time": "2023-11-30T06:07:11.171709",
     "status": "completed"
    },
    "tags": []
   },
   "outputs": [
    {
     "data": {
      "text/html": [
       "<div>\n",
       "<style scoped>\n",
       "    .dataframe tbody tr th:only-of-type {\n",
       "        vertical-align: middle;\n",
       "    }\n",
       "\n",
       "    .dataframe tbody tr th {\n",
       "        vertical-align: top;\n",
       "    }\n",
       "\n",
       "    .dataframe thead th {\n",
       "        text-align: right;\n",
       "    }\n",
       "</style>\n",
       "<table border=\"1\" class=\"dataframe\">\n",
       "  <thead>\n",
       "    <tr style=\"text-align: right;\">\n",
       "      <th></th>\n",
       "      <th>date</th>\n",
       "      <th>price</th>\n",
       "      <th>bedrooms</th>\n",
       "      <th>bathrooms</th>\n",
       "      <th>sqft_living</th>\n",
       "      <th>sqft_lot</th>\n",
       "      <th>floors</th>\n",
       "      <th>waterfront</th>\n",
       "      <th>view</th>\n",
       "      <th>condition</th>\n",
       "      <th>sqft_above</th>\n",
       "      <th>sqft_basement</th>\n",
       "      <th>yr_built</th>\n",
       "      <th>yr_renovated</th>\n",
       "      <th>street</th>\n",
       "      <th>city</th>\n",
       "      <th>statezip</th>\n",
       "      <th>country</th>\n",
       "    </tr>\n",
       "  </thead>\n",
       "  <tbody>\n",
       "    <tr>\n",
       "      <th>0</th>\n",
       "      <td>2014-05-02 00:00:00</td>\n",
       "      <td>313000.00</td>\n",
       "      <td>3.00</td>\n",
       "      <td>1.50</td>\n",
       "      <td>1340</td>\n",
       "      <td>7912</td>\n",
       "      <td>1.50</td>\n",
       "      <td>0</td>\n",
       "      <td>0</td>\n",
       "      <td>3</td>\n",
       "      <td>1340</td>\n",
       "      <td>0</td>\n",
       "      <td>1955</td>\n",
       "      <td>2005</td>\n",
       "      <td>18810 Densmore Ave N</td>\n",
       "      <td>Shoreline</td>\n",
       "      <td>WA 98133</td>\n",
       "      <td>USA</td>\n",
       "    </tr>\n",
       "    <tr>\n",
       "      <th>1</th>\n",
       "      <td>2014-05-02 00:00:00</td>\n",
       "      <td>2384000.00</td>\n",
       "      <td>5.00</td>\n",
       "      <td>2.50</td>\n",
       "      <td>3650</td>\n",
       "      <td>9050</td>\n",
       "      <td>2.00</td>\n",
       "      <td>0</td>\n",
       "      <td>4</td>\n",
       "      <td>5</td>\n",
       "      <td>3370</td>\n",
       "      <td>280</td>\n",
       "      <td>1921</td>\n",
       "      <td>0</td>\n",
       "      <td>709 W Blaine St</td>\n",
       "      <td>Seattle</td>\n",
       "      <td>WA 98119</td>\n",
       "      <td>USA</td>\n",
       "    </tr>\n",
       "    <tr>\n",
       "      <th>2</th>\n",
       "      <td>2014-05-02 00:00:00</td>\n",
       "      <td>342000.00</td>\n",
       "      <td>3.00</td>\n",
       "      <td>2.00</td>\n",
       "      <td>1930</td>\n",
       "      <td>11947</td>\n",
       "      <td>1.00</td>\n",
       "      <td>0</td>\n",
       "      <td>0</td>\n",
       "      <td>4</td>\n",
       "      <td>1930</td>\n",
       "      <td>0</td>\n",
       "      <td>1966</td>\n",
       "      <td>0</td>\n",
       "      <td>26206-26214 143rd Ave SE</td>\n",
       "      <td>Kent</td>\n",
       "      <td>WA 98042</td>\n",
       "      <td>USA</td>\n",
       "    </tr>\n",
       "    <tr>\n",
       "      <th>3</th>\n",
       "      <td>2014-05-02 00:00:00</td>\n",
       "      <td>420000.00</td>\n",
       "      <td>3.00</td>\n",
       "      <td>2.25</td>\n",
       "      <td>2000</td>\n",
       "      <td>8030</td>\n",
       "      <td>1.00</td>\n",
       "      <td>0</td>\n",
       "      <td>0</td>\n",
       "      <td>4</td>\n",
       "      <td>1000</td>\n",
       "      <td>1000</td>\n",
       "      <td>1963</td>\n",
       "      <td>0</td>\n",
       "      <td>857 170th Pl NE</td>\n",
       "      <td>Bellevue</td>\n",
       "      <td>WA 98008</td>\n",
       "      <td>USA</td>\n",
       "    </tr>\n",
       "    <tr>\n",
       "      <th>4</th>\n",
       "      <td>2014-05-02 00:00:00</td>\n",
       "      <td>550000.00</td>\n",
       "      <td>4.00</td>\n",
       "      <td>2.50</td>\n",
       "      <td>1940</td>\n",
       "      <td>10500</td>\n",
       "      <td>1.00</td>\n",
       "      <td>0</td>\n",
       "      <td>0</td>\n",
       "      <td>4</td>\n",
       "      <td>1140</td>\n",
       "      <td>800</td>\n",
       "      <td>1976</td>\n",
       "      <td>1992</td>\n",
       "      <td>9105 170th Ave NE</td>\n",
       "      <td>Redmond</td>\n",
       "      <td>WA 98052</td>\n",
       "      <td>USA</td>\n",
       "    </tr>\n",
       "  </tbody>\n",
       "</table>\n",
       "</div>"
      ],
      "text/plain": [
       "                  date      price  bedrooms  bathrooms  sqft_living  sqft_lot  \\\n",
       "0  2014-05-02 00:00:00  313000.00      3.00       1.50         1340      7912   \n",
       "1  2014-05-02 00:00:00 2384000.00      5.00       2.50         3650      9050   \n",
       "2  2014-05-02 00:00:00  342000.00      3.00       2.00         1930     11947   \n",
       "3  2014-05-02 00:00:00  420000.00      3.00       2.25         2000      8030   \n",
       "4  2014-05-02 00:00:00  550000.00      4.00       2.50         1940     10500   \n",
       "\n",
       "   floors  waterfront  view  condition  sqft_above  sqft_basement  yr_built  \\\n",
       "0    1.50           0     0          3        1340              0      1955   \n",
       "1    2.00           0     4          5        3370            280      1921   \n",
       "2    1.00           0     0          4        1930              0      1966   \n",
       "3    1.00           0     0          4        1000           1000      1963   \n",
       "4    1.00           0     0          4        1140            800      1976   \n",
       "\n",
       "   yr_renovated                    street       city  statezip country  \n",
       "0          2005      18810 Densmore Ave N  Shoreline  WA 98133     USA  \n",
       "1             0           709 W Blaine St    Seattle  WA 98119     USA  \n",
       "2             0  26206-26214 143rd Ave SE       Kent  WA 98042     USA  \n",
       "3             0           857 170th Pl NE   Bellevue  WA 98008     USA  \n",
       "4          1992         9105 170th Ave NE    Redmond  WA 98052     USA  "
      ]
     },
     "execution_count": 5,
     "metadata": {},
     "output_type": "execute_result"
    }
   ],
   "source": [
    "df.head()"
   ]
  },
  {
   "cell_type": "code",
   "execution_count": 6,
   "id": "74466568",
   "metadata": {
    "execution": {
     "iopub.execute_input": "2023-11-30T06:07:11.231605Z",
     "iopub.status.busy": "2023-11-30T06:07:11.231226Z",
     "iopub.status.idle": "2023-11-30T06:07:11.261155Z",
     "shell.execute_reply": "2023-11-30T06:07:11.260152Z"
    },
    "papermill": {
     "duration": 0.041417,
     "end_time": "2023-11-30T06:07:11.263550",
     "exception": false,
     "start_time": "2023-11-30T06:07:11.222133",
     "status": "completed"
    },
    "tags": []
   },
   "outputs": [
    {
     "name": "stdout",
     "output_type": "stream",
     "text": [
      "<class 'pandas.core.frame.DataFrame'>\n",
      "RangeIndex: 4600 entries, 0 to 4599\n",
      "Data columns (total 18 columns):\n",
      " #   Column         Non-Null Count  Dtype  \n",
      "---  ------         --------------  -----  \n",
      " 0   date           4600 non-null   object \n",
      " 1   price          4600 non-null   float64\n",
      " 2   bedrooms       4600 non-null   float64\n",
      " 3   bathrooms      4600 non-null   float64\n",
      " 4   sqft_living    4600 non-null   int64  \n",
      " 5   sqft_lot       4600 non-null   int64  \n",
      " 6   floors         4600 non-null   float64\n",
      " 7   waterfront     4600 non-null   int64  \n",
      " 8   view           4600 non-null   int64  \n",
      " 9   condition      4600 non-null   int64  \n",
      " 10  sqft_above     4600 non-null   int64  \n",
      " 11  sqft_basement  4600 non-null   int64  \n",
      " 12  yr_built       4600 non-null   int64  \n",
      " 13  yr_renovated   4600 non-null   int64  \n",
      " 14  street         4600 non-null   object \n",
      " 15  city           4600 non-null   object \n",
      " 16  statezip       4600 non-null   object \n",
      " 17  country        4600 non-null   object \n",
      "dtypes: float64(4), int64(9), object(5)\n",
      "memory usage: 647.0+ KB\n"
     ]
    }
   ],
   "source": [
    "df.info()"
   ]
  },
  {
   "cell_type": "code",
   "execution_count": 7,
   "id": "9bd4dd45",
   "metadata": {
    "execution": {
     "iopub.execute_input": "2023-11-30T06:07:11.281378Z",
     "iopub.status.busy": "2023-11-30T06:07:11.280730Z",
     "iopub.status.idle": "2023-11-30T06:07:11.286869Z",
     "shell.execute_reply": "2023-11-30T06:07:11.286179Z"
    },
    "papermill": {
     "duration": 0.017214,
     "end_time": "2023-11-30T06:07:11.288865",
     "exception": false,
     "start_time": "2023-11-30T06:07:11.271651",
     "status": "completed"
    },
    "tags": []
   },
   "outputs": [
    {
     "data": {
      "text/plain": [
       "array(['USA'], dtype=object)"
      ]
     },
     "execution_count": 7,
     "metadata": {},
     "output_type": "execute_result"
    }
   ],
   "source": [
    "df[\"country\"].unique()"
   ]
  },
  {
   "cell_type": "code",
   "execution_count": 8,
   "id": "e4843d75",
   "metadata": {
    "execution": {
     "iopub.execute_input": "2023-11-30T06:07:11.306732Z",
     "iopub.status.busy": "2023-11-30T06:07:11.306058Z",
     "iopub.status.idle": "2023-11-30T06:07:11.312597Z",
     "shell.execute_reply": "2023-11-30T06:07:11.311864Z"
    },
    "papermill": {
     "duration": 0.017848,
     "end_time": "2023-11-30T06:07:11.314623",
     "exception": false,
     "start_time": "2023-11-30T06:07:11.296775",
     "status": "completed"
    },
    "tags": []
   },
   "outputs": [
    {
     "data": {
      "text/plain": [
       "array(['Shoreline', 'Seattle', 'Kent', 'Bellevue', 'Redmond',\n",
       "       'Maple Valley', 'North Bend', 'Lake Forest Park', 'Sammamish',\n",
       "       'Auburn', 'Des Moines', 'Bothell', 'Federal Way', 'Kirkland',\n",
       "       'Issaquah', 'Woodinville', 'Normandy Park', 'Fall City', 'Renton',\n",
       "       'Carnation', 'Snoqualmie', 'Duvall', 'Burien', 'Covington',\n",
       "       'Inglewood-Finn Hill', 'Kenmore', 'Newcastle', 'Mercer Island',\n",
       "       'Black Diamond', 'Ravensdale', 'Clyde Hill', 'Algona', 'Skykomish',\n",
       "       'Tukwila', 'Vashon', 'Yarrow Point', 'SeaTac', 'Medina',\n",
       "       'Enumclaw', 'Snoqualmie Pass', 'Pacific', 'Beaux Arts Village',\n",
       "       'Preston', 'Milton'], dtype=object)"
      ]
     },
     "execution_count": 8,
     "metadata": {},
     "output_type": "execute_result"
    }
   ],
   "source": [
    "df[\"city\"].unique()"
   ]
  },
  {
   "cell_type": "code",
   "execution_count": 9,
   "id": "1ef88332",
   "metadata": {
    "execution": {
     "iopub.execute_input": "2023-11-30T06:07:11.333566Z",
     "iopub.status.busy": "2023-11-30T06:07:11.332873Z",
     "iopub.status.idle": "2023-11-30T06:07:11.340467Z",
     "shell.execute_reply": "2023-11-30T06:07:11.339176Z"
    },
    "papermill": {
     "duration": 0.019723,
     "end_time": "2023-11-30T06:07:11.342687",
     "exception": false,
     "start_time": "2023-11-30T06:07:11.322964",
     "status": "completed"
    },
    "tags": []
   },
   "outputs": [
    {
     "name": "stdout",
     "output_type": "stream",
     "text": [
      "city\n",
      "Seattle                1573\n",
      "Renton                  293\n",
      "Bellevue                286\n",
      "Redmond                 235\n",
      "Issaquah                187\n",
      "Kirkland                187\n",
      "Kent                    185\n",
      "Auburn                  176\n",
      "Sammamish               175\n",
      "Federal Way             148\n",
      "Shoreline               123\n",
      "Woodinville             115\n",
      "Maple Valley             96\n",
      "Mercer Island            86\n",
      "Burien                   74\n",
      "Snoqualmie               71\n",
      "Kenmore                  66\n",
      "Des Moines               58\n",
      "North Bend               50\n",
      "Covington                43\n",
      "Duvall                   42\n",
      "Lake Forest Park         36\n",
      "Bothell                  33\n",
      "Newcastle                33\n",
      "SeaTac                   29\n",
      "Tukwila                  29\n",
      "Vashon                   29\n",
      "Enumclaw                 28\n",
      "Carnation                22\n",
      "Normandy Park            18\n",
      "Clyde Hill               11\n",
      "Medina                   11\n",
      "Fall City                11\n",
      "Black Diamond             9\n",
      "Ravensdale                7\n",
      "Pacific                   6\n",
      "Algona                    5\n",
      "Yarrow Point              4\n",
      "Skykomish                 3\n",
      "Preston                   2\n",
      "Milton                    2\n",
      "Inglewood-Finn Hill       1\n",
      "Snoqualmie Pass           1\n",
      "Beaux Arts Village        1\n",
      "Name: count, dtype: int64\n"
     ]
    }
   ],
   "source": [
    "frequency_distribution = df['city'].value_counts()\n",
    "\n",
    "# Displaying the frequency distribution\n",
    "print(frequency_distribution)"
   ]
  },
  {
   "cell_type": "code",
   "execution_count": 10,
   "id": "ca4dfe2e",
   "metadata": {
    "execution": {
     "iopub.execute_input": "2023-11-30T06:07:11.361943Z",
     "iopub.status.busy": "2023-11-30T06:07:11.361011Z",
     "iopub.status.idle": "2023-11-30T06:07:12.418690Z",
     "shell.execute_reply": "2023-11-30T06:07:12.417504Z"
    },
    "papermill": {
     "duration": 1.070929,
     "end_time": "2023-11-30T06:07:12.422194",
     "exception": false,
     "start_time": "2023-11-30T06:07:11.351265",
     "status": "completed"
    },
    "tags": []
   },
   "outputs": [
    {
     "data": {
      "image/png": "[encoded data removed]",
      "text/plain": [
       "<Figure size 1000x600 with 1 Axes>"
      ]
     },
     "metadata": {},
     "output_type": "display_data"
    }
   ],
   "source": [
    "import matplotlib.pyplot as plt\n",
    "import seaborn as sns\n",
    "# Plotting the frequency distribution\n",
    "plt.figure(figsize=(10, 6))\n",
    "sns.countplot(x='city', data=df)\n",
    "plt.title('Frequency Distribution of Data in a City column')\n",
    "plt.xlabel('Unique Values')\n",
    "plt.ylabel('Frequency')\n",
    "plt.xticks(rotation=45, ha='right')\n",
    "plt.show()"
   ]
  },
  {
   "cell_type": "code",
   "execution_count": 11,
   "id": "5f9f850b",
   "metadata": {
    "execution": {
     "iopub.execute_input": "2023-11-30T06:07:12.444545Z",
     "iopub.status.busy": "2023-11-30T06:07:12.444118Z",
     "iopub.status.idle": "2023-11-30T06:07:12.455370Z",
     "shell.execute_reply": "2023-11-30T06:07:12.454195Z"
    },
    "papermill": {
     "duration": 0.025066,
     "end_time": "2023-11-30T06:07:12.457683",
     "exception": false,
     "start_time": "2023-11-30T06:07:12.432617",
     "status": "completed"
    },
    "tags": []
   },
   "outputs": [],
   "source": [
    "df = df.drop(['street', 'statezip', 'date'], axis =1)"
   ]
  },
  {
   "cell_type": "code",
   "execution_count": 12,
   "id": "75ab31af",
   "metadata": {
    "execution": {
     "iopub.execute_input": "2023-11-30T06:07:12.480794Z",
     "iopub.status.busy": "2023-11-30T06:07:12.479737Z",
     "iopub.status.idle": "2023-11-30T06:07:12.495071Z",
     "shell.execute_reply": "2023-11-30T06:07:12.494321Z"
    },
    "papermill": {
     "duration": 0.029139,
     "end_time": "2023-11-30T06:07:12.497231",
     "exception": false,
     "start_time": "2023-11-30T06:07:12.468092",
     "status": "completed"
    },
    "tags": []
   },
   "outputs": [
    {
     "data": {
      "text/html": [
       "<div>\n",
       "<style scoped>\n",
       "    .dataframe tbody tr th:only-of-type {\n",
       "        vertical-align: middle;\n",
       "    }\n",
       "\n",
       "    .dataframe tbody tr th {\n",
       "        vertical-align: top;\n",
       "    }\n",
       "\n",
       "    .dataframe thead th {\n",
       "        text-align: right;\n",
       "    }\n",
       "</style>\n",
       "<table border=\"1\" class=\"dataframe\">\n",
       "  <thead>\n",
       "    <tr style=\"text-align: right;\">\n",
       "      <th></th>\n",
       "      <th>price</th>\n",
       "      <th>bedrooms</th>\n",
       "      <th>bathrooms</th>\n",
       "      <th>sqft_living</th>\n",
       "      <th>sqft_lot</th>\n",
       "      <th>floors</th>\n",
       "      <th>waterfront</th>\n",
       "      <th>view</th>\n",
       "      <th>condition</th>\n",
       "      <th>sqft_above</th>\n",
       "      <th>sqft_basement</th>\n",
       "      <th>yr_built</th>\n",
       "      <th>yr_renovated</th>\n",
       "      <th>city</th>\n",
       "      <th>country</th>\n",
       "    </tr>\n",
       "  </thead>\n",
       "  <tbody>\n",
       "    <tr>\n",
       "      <th>0</th>\n",
       "      <td>313000.00</td>\n",
       "      <td>3.00</td>\n",
       "      <td>1.50</td>\n",
       "      <td>1340</td>\n",
       "      <td>7912</td>\n",
       "      <td>1.50</td>\n",
       "      <td>0</td>\n",
       "      <td>0</td>\n",
       "      <td>3</td>\n",
       "      <td>1340</td>\n",
       "      <td>0</td>\n",
       "      <td>1955</td>\n",
       "      <td>2005</td>\n",
       "      <td>Shoreline</td>\n",
       "      <td>USA</td>\n",
       "    </tr>\n",
       "    <tr>\n",
       "      <th>1</th>\n",
       "      <td>2384000.00</td>\n",
       "      <td>5.00</td>\n",
       "      <td>2.50</td>\n",
       "      <td>3650</td>\n",
       "      <td>9050</td>\n",
       "      <td>2.00</td>\n",
       "      <td>0</td>\n",
       "      <td>4</td>\n",
       "      <td>5</td>\n",
       "      <td>3370</td>\n",
       "      <td>280</td>\n",
       "      <td>1921</td>\n",
       "      <td>0</td>\n",
       "      <td>Seattle</td>\n",
       "      <td>USA</td>\n",
       "    </tr>\n",
       "    <tr>\n",
       "      <th>2</th>\n",
       "      <td>342000.00</td>\n",
       "      <td>3.00</td>\n",
       "      <td>2.00</td>\n",
       "      <td>1930</td>\n",
       "      <td>11947</td>\n",
       "      <td>1.00</td>\n",
       "      <td>0</td>\n",
       "      <td>0</td>\n",
       "      <td>4</td>\n",
       "      <td>1930</td>\n",
       "      <td>0</td>\n",
       "      <td>1966</td>\n",
       "      <td>0</td>\n",
       "      <td>Kent</td>\n",
       "      <td>USA</td>\n",
       "    </tr>\n",
       "    <tr>\n",
       "      <th>3</th>\n",
       "      <td>420000.00</td>\n",
       "      <td>3.00</td>\n",
       "      <td>2.25</td>\n",
       "      <td>2000</td>\n",
       "      <td>8030</td>\n",
       "      <td>1.00</td>\n",
       "      <td>0</td>\n",
       "      <td>0</td>\n",
       "      <td>4</td>\n",
       "      <td>1000</td>\n",
       "      <td>1000</td>\n",
       "      <td>1963</td>\n",
       "      <td>0</td>\n",
       "      <td>Bellevue</td>\n",
       "      <td>USA</td>\n",
       "    </tr>\n",
       "    <tr>\n",
       "      <th>4</th>\n",
       "      <td>550000.00</td>\n",
       "      <td>4.00</td>\n",
       "      <td>2.50</td>\n",
       "      <td>1940</td>\n",
       "      <td>10500</td>\n",
       "      <td>1.00</td>\n",
       "      <td>0</td>\n",
       "      <td>0</td>\n",
       "      <td>4</td>\n",
       "      <td>1140</td>\n",
       "      <td>800</td>\n",
       "      <td>1976</td>\n",
       "      <td>1992</td>\n",
       "      <td>Redmond</td>\n",
       "      <td>USA</td>\n",
       "    </tr>\n",
       "  </tbody>\n",
       "</table>\n",
       "</div>"
      ],
      "text/plain": [
       "       price  bedrooms  bathrooms  sqft_living  sqft_lot  floors  waterfront  \\\n",
       "0  313000.00      3.00       1.50         1340      7912    1.50           0   \n",
       "1 2384000.00      5.00       2.50         3650      9050    2.00           0   \n",
       "2  342000.00      3.00       2.00         1930     11947    1.00           0   \n",
       "3  420000.00      3.00       2.25         2000      8030    1.00           0   \n",
       "4  550000.00      4.00       2.50         1940     10500    1.00           0   \n",
       "\n",
       "   view  condition  sqft_above  sqft_basement  yr_built  yr_renovated  \\\n",
       "0     0          3        1340              0      1955          2005   \n",
       "1     4          5        3370            280      1921             0   \n",
       "2     0          4        1930              0      1966             0   \n",
       "3     0          4        1000           1000      1963             0   \n",
       "4     0          4        1140            800      1976          1992   \n",
       "\n",
       "        city country  \n",
       "0  Shoreline     USA  \n",
       "1    Seattle     USA  \n",
       "2       Kent     USA  \n",
       "3   Bellevue     USA  \n",
       "4    Redmond     USA  "
      ]
     },
     "execution_count": 12,
     "metadata": {},
     "output_type": "execute_result"
    }
   ],
   "source": [
    "df.head()"
   ]
  },
  {
   "cell_type": "code",
   "execution_count": 13,
   "id": "cca2dd7a",
   "metadata": {
    "execution": {
     "iopub.execute_input": "2023-11-30T06:07:12.521817Z",
     "iopub.status.busy": "2023-11-30T06:07:12.520810Z",
     "iopub.status.idle": "2023-11-30T06:07:12.544066Z",
     "shell.execute_reply": "2023-11-30T06:07:12.542566Z"
    },
    "papermill": {
     "duration": 0.03718,
     "end_time": "2023-11-30T06:07:12.546204",
     "exception": false,
     "start_time": "2023-11-30T06:07:12.509024",
     "status": "completed"
    },
    "tags": []
   },
   "outputs": [
    {
     "name": "stdout",
     "output_type": "stream",
     "text": [
      "Rows where values are '0':\n",
      "         price  bedrooms  bathrooms  sqft_living  sqft_lot  floors  \\\n",
      "0    313000.00      3.00       1.50         1340      7912    1.50   \n",
      "2    342000.00      3.00       2.00         1930     11947    1.00   \n",
      "3    420000.00      3.00       2.25         2000      8030    1.00   \n",
      "4    550000.00      4.00       2.50         1940     10500    1.00   \n",
      "5    490000.00      2.00       1.00          880      6380    1.00   \n",
      "...        ...       ...        ...          ...       ...     ...   \n",
      "4595 308166.67      3.00       1.75         1510      6360    1.00   \n",
      "4596 534333.33      3.00       2.50         1460      7573    2.00   \n",
      "4597 416904.17      3.00       2.50         3010      7014    2.00   \n",
      "4598 203400.00      4.00       2.00         2090      6630    1.00   \n",
      "4599 220600.00      3.00       2.50         1490      8102    2.00   \n",
      "\n",
      "      waterfront  view  condition  sqft_above  sqft_basement  yr_built  \\\n",
      "0              0     0          3        1340              0      1955   \n",
      "2              0     0          4        1930              0      1966   \n",
      "3              0     0          4        1000           1000      1963   \n",
      "4              0     0          4        1140            800      1976   \n",
      "5              0     0          3         880              0      1938   \n",
      "...          ...   ...        ...         ...            ...       ...   \n",
      "4595           0     0          4        1510              0      1954   \n",
      "4596           0     0          3        1460              0      1983   \n",
      "4597           0     0          3        3010              0      2009   \n",
      "4598           0     0          3        1070           1020      1974   \n",
      "4599           0     0          4        1490              0      1990   \n",
      "\n",
      "      yr_renovated       city country  \n",
      "0             2005  Shoreline     USA  \n",
      "2                0       Kent     USA  \n",
      "3                0   Bellevue     USA  \n",
      "4             1992    Redmond     USA  \n",
      "5             1994    Seattle     USA  \n",
      "...            ...        ...     ...  \n",
      "4595          1979    Seattle     USA  \n",
      "4596          2009   Bellevue     USA  \n",
      "4597             0     Renton     USA  \n",
      "4598             0    Seattle     USA  \n",
      "4599             0  Covington     USA  \n",
      "\n",
      "[4140 rows x 15 columns]\n",
      "\n",
      "Rows where values are not '0':\n",
      "          price  bedrooms  bathrooms  sqft_living  sqft_lot  floors  \\\n",
      "1    2384000.00      5.00       2.50         3650      9050    2.00   \n",
      "32    650000.00      4.00       2.00         1820      5000    1.50   \n",
      "35    604000.00      3.00       2.50         3240     33151    2.00   \n",
      "38    403000.00      3.00       2.00         1960     13100    1.00   \n",
      "39    750000.00      3.00       2.50         2390      6550    1.00   \n",
      "...         ...       ...        ...          ...       ...     ...   \n",
      "4562  542500.00      5.00       2.75         2520     16100    1.00   \n",
      "4563       0.00      2.00       2.25         2130      4920    1.50   \n",
      "4567       0.00      4.00       2.50         4080     18362    2.00   \n",
      "4570  318000.00      2.00       1.75         1530      3503    1.00   \n",
      "4588       0.00      4.00       2.25         2890     18226    3.00   \n",
      "\n",
      "      waterfront  view  condition  sqft_above  sqft_basement  yr_built  \\\n",
      "1              0     4          5        3370            280      1921   \n",
      "32             0     1          3        1640            180      1945   \n",
      "35             0     2          3        3240              0      1995   \n",
      "38             0     2          5        1650            310      1957   \n",
      "39             0     2          4        1440            950      1955   \n",
      "...          ...   ...        ...         ...            ...       ...   \n",
      "4562           0     3          4        1570            950      1960   \n",
      "4563           0     4          4        1530            600      1941   \n",
      "4567           0     2          4        4080              0      1983   \n",
      "4570           0     1          4         830            700      1916   \n",
      "4588           1     4          3        2890              0      1984   \n",
      "\n",
      "      yr_renovated           city country  \n",
      "1                0        Seattle     USA  \n",
      "32            2010        Seattle     USA  \n",
      "35               0    Federal Way     USA  \n",
      "38               0  Normandy Park     USA  \n",
      "39            2009        Seattle     USA  \n",
      "...            ...            ...     ...  \n",
      "4562          2001  Mercer Island     USA  \n",
      "4563          1998        Seattle     USA  \n",
      "4567             0     Clyde Hill     USA  \n",
      "4570             0        Seattle     USA  \n",
      "4588             0         Renton     USA  \n",
      "\n",
      "[460 rows x 15 columns]\n"
     ]
    }
   ],
   "source": [
    "column_name = 'view'\n",
    "\n",
    "# Check if values in the column are '0' or not\n",
    "is_zero = df[column_name] == 0\n",
    "\n",
    "# Display the rows where the values are '0'\n",
    "print(\"Rows where values are '0':\")\n",
    "print(df[is_zero])\n",
    "\n",
    "# Display the rows where the values are not '0'\n",
    "print(\"\\nRows where values are not '0':\")\n",
    "print(df[~is_zero])"
   ]
  },
  {
   "cell_type": "code",
   "execution_count": 14,
   "id": "8e755e45",
   "metadata": {
    "execution": {
     "iopub.execute_input": "2023-11-30T06:07:12.570313Z",
     "iopub.status.busy": "2023-11-30T06:07:12.569513Z",
     "iopub.status.idle": "2023-11-30T06:07:12.587686Z",
     "shell.execute_reply": "2023-11-30T06:07:12.586765Z"
    },
    "papermill": {
     "duration": 0.032424,
     "end_time": "2023-11-30T06:07:12.589880",
     "exception": false,
     "start_time": "2023-11-30T06:07:12.557456",
     "status": "completed"
    },
    "tags": []
   },
   "outputs": [
    {
     "name": "stdout",
     "output_type": "stream",
     "text": [
      "          price  bedrooms  bathrooms  sqft_living  sqft_lot  floors  \\\n",
      "0     313000.00      3.00       1.50         1340      7912    1.50   \n",
      "1    2384000.00      5.00       2.50         3650      9050    2.00   \n",
      "2     342000.00      3.00       2.00         1930     11947    1.00   \n",
      "3     420000.00      3.00       2.25         2000      8030    1.00   \n",
      "4     550000.00      4.00       2.50         1940     10500    1.00   \n",
      "...         ...       ...        ...          ...       ...     ...   \n",
      "4595  308166.67      3.00       1.75         1510      6360    1.00   \n",
      "4596  534333.33      3.00       2.50         1460      7573    2.00   \n",
      "4597  416904.17      3.00       2.50         3010      7014    2.00   \n",
      "4598  203400.00      4.00       2.00         2090      6630    1.00   \n",
      "4599  220600.00      3.00       2.50         1490      8102    2.00   \n",
      "\n",
      "      waterfront  view  condition  sqft_above  sqft_basement  yr_built  \\\n",
      "0              0     0          3        1340              0      1955   \n",
      "1              0     4          5        3370            280      1921   \n",
      "2              0     0          4        1930              0      1966   \n",
      "3              0     0          4        1000           1000      1963   \n",
      "4              0     0          4        1140            800      1976   \n",
      "...          ...   ...        ...         ...            ...       ...   \n",
      "4595           0     0          4        1510              0      1954   \n",
      "4596           0     0          3        1460              0      1983   \n",
      "4597           0     0          3        3010              0      2009   \n",
      "4598           0     0          3        1070           1020      1974   \n",
      "4599           0     0          4        1490              0      1990   \n",
      "\n",
      "      yr_renovated       city country  \n",
      "0             2005  Shoreline     USA  \n",
      "1                0    Seattle     USA  \n",
      "2                0       Kent     USA  \n",
      "3                0   Bellevue     USA  \n",
      "4             1992    Redmond     USA  \n",
      "...            ...        ...     ...  \n",
      "4595          1979    Seattle     USA  \n",
      "4596          2009   Bellevue     USA  \n",
      "4597             0     Renton     USA  \n",
      "4598             0    Seattle     USA  \n",
      "4599             0  Covington     USA  \n",
      "\n",
      "[4600 rows x 15 columns]\n"
     ]
    }
   ],
   "source": [
    "# Convert '0' values to NaN\n",
    "df['sqft_basement'].replace('0', pd.NA, inplace=True)\n",
    "\n",
    "# Convert the column to numeric (assuming it contains numbers)\n",
    "df['sqft_basement'] = pd.to_numeric(df['sqft_basement'], errors='coerce')\n",
    "\n",
    "# Calculate the mean of non-NaN values\n",
    "mean_value = df['sqft_basement'].mean()\n",
    "\n",
    "# Replace NaN values with the mean\n",
    "df['sqft_basement'].fillna(mean_value, inplace=True)\n",
    "\n",
    "# Display the updated DataFrame\n",
    "print(df)"
   ]
  },
  {
   "cell_type": "code",
   "execution_count": 15,
   "id": "26ea3440",
   "metadata": {
    "execution": {
     "iopub.execute_input": "2023-11-30T06:07:12.614217Z",
     "iopub.status.busy": "2023-11-30T06:07:12.613821Z",
     "iopub.status.idle": "2023-11-30T06:07:12.623841Z",
     "shell.execute_reply": "2023-11-30T06:07:12.622640Z"
    },
    "papermill": {
     "duration": 0.025002,
     "end_time": "2023-11-30T06:07:12.626285",
     "exception": false,
     "start_time": "2023-11-30T06:07:12.601283",
     "status": "completed"
    },
    "tags": []
   },
   "outputs": [
    {
     "name": "stdout",
     "output_type": "stream",
     "text": [
      "<class 'pandas.core.series.Series'>\n",
      "RangeIndex: 4600 entries, 0 to 4599\n",
      "Series name: sqft_basement\n",
      "Non-Null Count  Dtype\n",
      "--------------  -----\n",
      "4600 non-null   int64\n",
      "dtypes: int64(1)\n",
      "memory usage: 36.1 KB\n"
     ]
    }
   ],
   "source": [
    "df['sqft_basement'].info()"
   ]
  },
  {
   "cell_type": "code",
   "execution_count": 16,
   "id": "3c590a73",
   "metadata": {
    "execution": {
     "iopub.execute_input": "2023-11-30T06:07:12.649744Z",
     "iopub.status.busy": "2023-11-30T06:07:12.649331Z",
     "iopub.status.idle": "2023-11-30T06:07:12.662439Z",
     "shell.execute_reply": "2023-11-30T06:07:12.661344Z"
    },
    "papermill": {
     "duration": 0.027434,
     "end_time": "2023-11-30T06:07:12.664699",
     "exception": false,
     "start_time": "2023-11-30T06:07:12.637265",
     "status": "completed"
    },
    "tags": []
   },
   "outputs": [
    {
     "data": {
      "text/plain": [
       "count   4600.00\n",
       "mean     312.08\n",
       "std      464.14\n",
       "min        0.00\n",
       "25%        0.00\n",
       "50%        0.00\n",
       "75%      610.00\n",
       "max     4820.00\n",
       "Name: sqft_basement, dtype: float64"
      ]
     },
     "execution_count": 16,
     "metadata": {},
     "output_type": "execute_result"
    }
   ],
   "source": [
    "df['sqft_basement'].describe()"
   ]
  },
  {
   "cell_type": "code",
   "execution_count": 17,
   "id": "7956168b",
   "metadata": {
    "execution": {
     "iopub.execute_input": "2023-11-30T06:07:12.689138Z",
     "iopub.status.busy": "2023-11-30T06:07:12.688695Z",
     "iopub.status.idle": "2023-11-30T06:07:12.697865Z",
     "shell.execute_reply": "2023-11-30T06:07:12.696588Z"
    },
    "papermill": {
     "duration": 0.024165,
     "end_time": "2023-11-30T06:07:12.700204",
     "exception": false,
     "start_time": "2023-11-30T06:07:12.676039",
     "status": "completed"
    },
    "tags": []
   },
   "outputs": [
    {
     "data": {
      "text/plain": [
       "<bound method NDFrame._add_numeric_operations.<locals>.sum of 0       False\n",
       "1       False\n",
       "2       False\n",
       "3       False\n",
       "4       False\n",
       "        ...  \n",
       "4595    False\n",
       "4596    False\n",
       "4597    False\n",
       "4598    False\n",
       "4599    False\n",
       "Name: sqft_basement, Length: 4600, dtype: bool>"
      ]
     },
     "execution_count": 17,
     "metadata": {},
     "output_type": "execute_result"
    }
   ],
   "source": [
    "df['sqft_basement'].isnull().sum"
   ]
  },
  {
   "cell_type": "code",
   "execution_count": 18,
   "id": "09b8d94e",
   "metadata": {
    "execution": {
     "iopub.execute_input": "2023-11-30T06:07:12.725044Z",
     "iopub.status.busy": "2023-11-30T06:07:12.724407Z",
     "iopub.status.idle": "2023-11-30T06:07:12.733185Z",
     "shell.execute_reply": "2023-11-30T06:07:12.732104Z"
    },
    "papermill": {
     "duration": 0.023837,
     "end_time": "2023-11-30T06:07:12.735569",
     "exception": false,
     "start_time": "2023-11-30T06:07:12.711732",
     "status": "completed"
    },
    "tags": []
   },
   "outputs": [
    {
     "data": {
      "text/plain": [
       "0       0\n",
       "1     280\n",
       "2       0\n",
       "3    1000\n",
       "4     800\n",
       "Name: sqft_basement, dtype: int64"
      ]
     },
     "execution_count": 18,
     "metadata": {},
     "output_type": "execute_result"
    }
   ],
   "source": [
    "df['sqft_basement'].head()"
   ]
  },
  {
   "cell_type": "code",
   "execution_count": null,
   "id": "e0299744",
   "metadata": {
    "papermill": {
     "duration": 0.011612,
     "end_time": "2023-11-30T06:07:12.758591",
     "exception": false,
     "start_time": "2023-11-30T06:07:12.746979",
     "status": "completed"
    },
    "tags": []
   },
   "outputs": [],
   "source": []
  }
 ],
 "metadata": {
  "kaggle": {
   "accelerator": "none",
   "dataSources": [
    {
     "datasetId": 46927,
     "sourceId": 85203,
     "sourceType": "datasetVersion"
    }
   ],
   "dockerImageVersionId": 30587,
   "isGpuEnabled": false,
   "isInternetEnabled": true,
   "language": "python",
   "sourceType": "notebook"
  },
  "kernelspec": {
   "display_name": "Python 3",
   "language": "python",
   "name": "python3"
  },
  "language_info": {
   "codemirror_mode": {
    "name": "ipython",
    "version": 3
   },
   "file_extension": ".py",
   "mimetype": "text/x-python",
   "name": "python",
   "nbconvert_exporter": "python",
   "pygments_lexer": "ipython3",
   "version": "3.10.12"
  },
  "papermill": {
   "default_parameters": {},
   "duration": 25.55705,
   "end_time": "2023-11-30T06:07:13.591534",
   "environment_variables": {},
   "exception": null,
   "input_path": "__notebook__.ipynb",
   "output_path": "__notebook__.ipynb",
   "parameters": {},
   "start_time": "2023-11-30T06:06:48.034484",
   "version": "2.4.0"
  }
 },
 "nbformat": 4,
 "nbformat_minor": 5
}
