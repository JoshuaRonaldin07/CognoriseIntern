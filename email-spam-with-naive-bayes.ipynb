{
 "cells": [
  {
   "cell_type": "code",
   "execution_count": 1,
   "id": "eb215f40",
   "metadata": {
    "_cell_guid": "b1076dfc-b9ad-4769-8c92-a6c4dae69d19", 
    "_uuid": "8f2839f25d086af736a60e9eeb907d3b93b6e0e5",
    "execution": {
     "iopub.execute_input": "2023-11-15T17:20:46.541450Z",
     "iopub.status.busy": "2023-11-15T17:20:46.540942Z",
     "iopub.status.idle": "2023-11-15T17:20:47.026969Z",
     "shell.execute_reply": "2023-11-15T17:20:47.025723Z"
    },
    "papermill": {
     "duration": 0.50021,
     "end_time": "2023-11-15T17:20:47.030174",
     "exception": false,
     "start_time": "2023-11-15T17:20:46.529964",
     "status": "completed"
    },
    "tags": []
   },
   "outputs": [
    {
     "name": "stdout",
     "output_type": "stream",
     "text": [
      "/kaggle/input/spam-email/spam.csv\n"
     ]
    }
   ],
   "source": [
    "# This Python 3 environment comes with many helpful analytics libraries installed\n",
    "# It is defined by the kaggle/python Docker image: https://github.com/kaggle/docker-python\n",
    "# For example, here's several helpful packages to load\n",
    "\n",
    "import numpy as np # linear algebra\n",
    "import pandas as pd # data processing, CSV file I/O (e.g. pd.read_csv)\n",
    "\n",
    "# Input data files are available in the read-only \"../input/\" directory\n",
    "# For example, running this (by clicking run or pressing Shift+Enter) will list all files under the input directory\n",
    "\n",
    "import os\n",
    "for dirname, _, filenames in os.walk('/kaggle/input'):\n",
    "    for filename in filenames:\n",
    "        print(os.path.join(dirname, filename))\n",
    "\n",
    "# You can write up to 20GB to the current directory (/kaggle/working/) that gets preserved as output when you create a version using \"Save & Run All\" \n",
    "# You can also write temporary files to /kaggle/temp/, but they won't be saved outside of the current session"
   ]
  },
  {
   "cell_type": "code",
   "execution_count": 2,
   "id": "5fd1a96e",
   "metadata": {
    "execution": {
     "iopub.execute_input": "2023-11-15T17:20:47.050002Z",
     "iopub.status.busy": "2023-11-15T17:20:47.048735Z",
     "iopub.status.idle": "2023-11-15T17:20:47.112919Z",
     "shell.execute_reply": "2023-11-15T17:20:47.111765Z"
    },
    "papermill": {
     "duration": 0.077416,
     "end_time": "2023-11-15T17:20:47.116289",
     "exception": false,
     "start_time": "2023-11-15T17:20:47.038873",
     "status": "completed"
    },
    "tags": []
   },
   "outputs": [
    {
     "name": "stdout",
     "output_type": "stream",
     "text": [
      "(5572, 2)\n"
     ]
    },
    {
     "data": {
      "text/html": [
       "<div>\n",
       "<style scoped>\n",
       "    .dataframe tbody tr th:only-of-type {\n",
       "        vertical-align: middle;\n",
       "    }\n",
       "\n",
       "    .dataframe tbody tr th {\n",
       "        vertical-align: top;\n",
       "    }\n",
       "\n",
       "    .dataframe thead th {\n",
       "        text-align: right;\n",
       "    }\n",
       "</style>\n",
       "<table border=\"1\" class=\"dataframe\">\n",
       "  <thead>\n",
       "    <tr style=\"text-align: right;\">\n",
       "      <th></th>\n",
       "      <th>Category</th>\n",
       "      <th>Message</th>\n",
       "    </tr>\n",
       "  </thead>\n",
       "  <tbody>\n",
       "    <tr>\n",
       "      <th>0</th>\n",
       "      <td>ham</td>\n",
       "      <td>Go until jurong point, crazy.. Available only ...</td>\n",
       "    </tr>\n",
       "    <tr>\n",
       "      <th>1</th>\n",
       "      <td>ham</td>\n",
       "      <td>Ok lar... Joking wif u oni...</td>\n",
       "    </tr>\n",
       "    <tr>\n",
       "      <th>2</th>\n",
       "      <td>spam</td>\n",
       "      <td>Free entry in 2 a wkly comp to win FA Cup fina...</td>\n",
       "    </tr>\n",
       "    <tr>\n",
       "      <th>3</th>\n",
       "      <td>ham</td>\n",
       "      <td>U dun say so early hor... U c already then say...</td>\n",
       "    </tr>\n",
       "    <tr>\n",
       "      <th>4</th>\n",
       "      <td>ham</td>\n",
       "      <td>Nah I don't think he goes to usf, he lives aro...</td>\n",
       "    </tr>\n",
       "  </tbody>\n",
       "</table>\n",
       "</div>"
      ],
      "text/plain": [
       "  Category                                            Message\n",
       "0      ham  Go until jurong point, crazy.. Available only ...\n",
       "1      ham                      Ok lar... Joking wif u oni...\n",
       "2     spam  Free entry in 2 a wkly comp to win FA Cup fina...\n",
       "3      ham  U dun say so early hor... U c already then say...\n",
       "4      ham  Nah I don't think he goes to usf, he lives aro..."
      ]
     },
     "execution_count": 2,
     "metadata": {},
     "output_type": "execute_result"
    }
   ],
   "source": [
    "data=pd.read_csv('/kaggle/input/spam-email/spam.csv')\n",
    "print(data.shape) \n",
    "#in số dòng số cột trong data frame\n",
    "data.head()\n",
    "#in 5 dòng dữ liệu đầu"
   ]
  },
  {
   "cell_type": "code",
   "execution_count": 3,
   "id": "047bba25",
   "metadata": {
    "execution": {
     "iopub.execute_input": "2023-11-15T17:20:47.136097Z",
     "iopub.status.busy": "2023-11-15T17:20:47.135248Z",
     "iopub.status.idle": "2023-11-15T17:20:47.140519Z",
     "shell.execute_reply": "2023-11-15T17:20:47.139613Z"
    },
    "papermill": {
     "duration": 0.017962,
     "end_time": "2023-11-15T17:20:47.142906",
     "exception": false,
     "start_time": "2023-11-15T17:20:47.124944",
     "status": "completed"
    },
    "tags": []
   },
   "outputs": [],
   "source": [
    "import re"
   ]
  },
  {
   "cell_type": "code",
   "execution_count": 4,
   "id": "14e53c66",
   "metadata": {
    "execution": {
     "iopub.execute_input": "2023-11-15T17:20:47.162667Z",
     "iopub.status.busy": "2023-11-15T17:20:47.161759Z",
     "iopub.status.idle": "2023-11-15T17:20:47.167667Z",
     "shell.execute_reply": "2023-11-15T17:20:47.166870Z"
    },
    "papermill": {
     "duration": 0.018392,
     "end_time": "2023-11-15T17:20:47.169975",
     "exception": false,
     "start_time": "2023-11-15T17:20:47.151583",
     "status": "completed"
    },
    "tags": []
   },
   "outputs": [],
   "source": [
    "# Hàm tiền xử lý dữ liệu\n",
    "def preprocess_text(text):\n",
    "    # Chuẩn hóa chữ hoa thành chữ thường\n",
    "    text = text.lower()\n",
    "    # Loại bỏ ký tự đặc biệt sử dụng biểu thức chính quy (regex)\n",
    "    text = re.sub(r'[^a-zA-Z0-9\\s]', '', text)\n",
    "    return text\n",
    "#Biểu thức chính quy [^a-zA-Z0-9\\s] áp dụng negation(phủ định) ('^') cho các ký tự không thuộc bảng chữ cái, \n",
    "#không phải chữ số và không phải khoảng trắng, và sau đó nó được thay thế bằng chuỗi rỗng (''), \n",
    "#có tác dụng loại bỏ chúng khỏi văn bản."
   ]
  },
  {
   "cell_type": "code",
   "execution_count": 5,
   "id": "9ea20ec4",
   "metadata": {
    "execution": {
     "iopub.execute_input": "2023-11-15T17:20:47.189907Z",
     "iopub.status.busy": "2023-11-15T17:20:47.189071Z",
     "iopub.status.idle": "2023-11-15T17:20:47.194965Z",
     "shell.execute_reply": "2023-11-15T17:20:47.193798Z"
    },
    "papermill": {
     "duration": 0.018472,
     "end_time": "2023-11-15T17:20:47.197191",
     "exception": false,
     "start_time": "2023-11-15T17:20:47.178719",
     "status": "completed"
    },
    "tags": []
   },
   "outputs": [],
   "source": [
    "X = data['Message']\n",
    "#Biến X chứa dữ liệu đầu vào là cột message\n",
    "Y = data['Category']\n",
    "#Biến Y chứa dữ liệu đầu vào là cột category"
   ]
  },
  {
   "cell_type": "code",
   "execution_count": 6,
   "id": "2cf99f31",
   "metadata": {
    "execution": {
     "iopub.execute_input": "2023-11-15T17:20:47.216452Z",
     "iopub.status.busy": "2023-11-15T17:20:47.215623Z",
     "iopub.status.idle": "2023-11-15T17:20:47.224507Z",
     "shell.execute_reply": "2023-11-15T17:20:47.223412Z"
    },
    "papermill": {
     "duration": 0.021324,
     "end_time": "2023-11-15T17:20:47.227138",
     "exception": false,
     "start_time": "2023-11-15T17:20:47.205814",
     "status": "completed"
    },
    "tags": []
   },
   "outputs": [
    {
     "name": "stdout",
     "output_type": "stream",
     "text": [
      "0       Go until jurong point, crazy.. Available only ...\n",
      "1                           Ok lar... Joking wif u oni...\n",
      "2       Free entry in 2 a wkly comp to win FA Cup fina...\n",
      "3       U dun say so early hor... U c already then say...\n",
      "4       Nah I don't think he goes to usf, he lives aro...\n",
      "                              ...                        \n",
      "5567    This is the 2nd time we have tried 2 contact u...\n",
      "5568                 Will ü b going to esplanade fr home?\n",
      "5569    Pity, * was in mood for that. So...any other s...\n",
      "5570    The guy did some bitching but I acted like i'd...\n",
      "5571                           Rofl. Its true to its name\n",
      "Name: Message, Length: 5572, dtype: object\n",
      "0        ham\n",
      "1        ham\n",
      "2       spam\n",
      "3        ham\n",
      "4        ham\n",
      "        ... \n",
      "5567    spam\n",
      "5568     ham\n",
      "5569     ham\n",
      "5570     ham\n",
      "5571     ham\n",
      "Name: Category, Length: 5572, dtype: object\n"
     ]
    }
   ],
   "source": [
    "print(X)\n",
    "print(Y)"
   ]
  },
  {
   "cell_type": "code",
   "execution_count": 7,
   "id": "b3e8051f",
   "metadata": {
    "execution": {
     "iopub.execute_input": "2023-11-15T17:20:47.246936Z",
     "iopub.status.busy": "2023-11-15T17:20:47.246411Z",
     "iopub.status.idle": "2023-11-15T17:20:47.252775Z",
     "shell.execute_reply": "2023-11-15T17:20:47.251611Z"
    },
    "papermill": {
     "duration": 0.019716,
     "end_time": "2023-11-15T17:20:47.255680",
     "exception": false,
     "start_time": "2023-11-15T17:20:47.235964",
     "status": "completed"
    },
    "tags": []
   },
   "outputs": [
    {
     "name": "stdout",
     "output_type": "stream",
     "text": [
      "Go until jurong point, crazy.. Available only in bugis n great world la e buffet... Cine there got amore wat...\n",
      "Ok lar... Joking wif u oni...\n",
      "Free entry in 2 a wkly comp to win FA Cup final tkts 21st May 2005. Text FA to 87121 to receive entry question(std txt rate)T&C's apply 08452810075over18's\n",
      "U dun say so early hor... U c already then say...\n",
      "Nah I don't think he goes to usf, he lives around here though\n"
     ]
    }
   ],
   "source": [
    "#Trước tiền xử lý DL \n",
    "for i in range(5):\n",
    "    print(X.iloc[i])"
   ]
  },
  {
   "cell_type": "code",
   "execution_count": 8,
   "id": "0ad3639a",
   "metadata": {
    "execution": {
     "iopub.execute_input": "2023-11-15T17:20:47.275958Z",
     "iopub.status.busy": "2023-11-15T17:20:47.275407Z",
     "iopub.status.idle": "2023-11-15T17:20:47.318306Z",
     "shell.execute_reply": "2023-11-15T17:20:47.317328Z"
    },
    "papermill": {
     "duration": 0.056382,
     "end_time": "2023-11-15T17:20:47.320970",
     "exception": false,
     "start_time": "2023-11-15T17:20:47.264588",
     "status": "completed"
    },
    "tags": []
   },
   "outputs": [],
   "source": [
    "X = X.apply(preprocess_text)"
   ]
  },
  {
   "cell_type": "code",
   "execution_count": 9,
   "id": "d41d565c",
   "metadata": {
    "execution": {
     "iopub.execute_input": "2023-11-15T17:20:47.340749Z",
     "iopub.status.busy": "2023-11-15T17:20:47.339902Z",
     "iopub.status.idle": "2023-11-15T17:20:47.346508Z",
     "shell.execute_reply": "2023-11-15T17:20:47.345340Z"
    },
    "papermill": {
     "duration": 0.019513,
     "end_time": "2023-11-15T17:20:47.349293",
     "exception": false,
     "start_time": "2023-11-15T17:20:47.329780",
     "status": "completed"
    },
    "tags": []
   },
   "outputs": [
    {
     "name": "stdout",
     "output_type": "stream",
     "text": [
      "go until jurong point crazy available only in bugis n great world la e buffet cine there got amore wat\n",
      "ok lar joking wif u oni\n",
      "free entry in 2 a wkly comp to win fa cup final tkts 21st may 2005 text fa to 87121 to receive entry questionstd txt ratetcs apply 08452810075over18s\n",
      "u dun say so early hor u c already then say\n",
      "nah i dont think he goes to usf he lives around here though\n"
     ]
    }
   ],
   "source": [
    "#Sau tiền xl dl\n",
    "for i in range(5):\n",
    "    print(X.iloc[i])"
   ]
  },
  {
   "cell_type": "code",
   "execution_count": 10,
   "id": "6b8808d3",
   "metadata": {
    "execution": {
     "iopub.execute_input": "2023-11-15T17:20:47.370384Z",
     "iopub.status.busy": "2023-11-15T17:20:47.369587Z",
     "iopub.status.idle": "2023-11-15T17:20:48.529669Z",
     "shell.execute_reply": "2023-11-15T17:20:48.528297Z"
    },
    "papermill": {
     "duration": 1.174659,
     "end_time": "2023-11-15T17:20:48.532923",
     "exception": false,
     "start_time": "2023-11-15T17:20:47.358264",
     "status": "completed"
    },
    "tags": []
   },
   "outputs": [],
   "source": [
    "from sklearn.model_selection import train_test_split\n",
    "#Đoạn code này sử dụng hàm train_test_split từ thư viện sklearn.model_selection để chia dữ liệu \n",
    "#thành hai phần: một phần để huấn luyện mô hình (training set) và một phần để kiểm thử mô hình (test set)."
   ]
  },
  {
   "cell_type": "code",
   "execution_count": 11,
   "id": "1d830348",
   "metadata": {
    "execution": {
     "iopub.execute_input": "2023-11-15T17:20:48.553976Z",
     "iopub.status.busy": "2023-11-15T17:20:48.552675Z",
     "iopub.status.idle": "2023-11-15T17:20:48.565154Z",
     "shell.execute_reply": "2023-11-15T17:20:48.564052Z"
    },
    "papermill": {
     "duration": 0.02597,
     "end_time": "2023-11-15T17:20:48.568040",
     "exception": false,
     "start_time": "2023-11-15T17:20:48.542070",
     "status": "completed"
    },
    "tags": []
   },
   "outputs": [],
   "source": [
    "# Phân chia dữ liệu\n",
    "X_train, X_test, Y_train, Y_test = train_test_split(X, Y, test_size=0.2, random_state=5)\n",
    "#X_train chứa message train, X_test chứa message test, Y_train chứa category train, Y_test chứa ct test\n",
    "#test_size: dữ liệu test chiếm 20%, còn lại 80% là train\n",
    "#random_state=5: đảm bảo rằng việc chia dữ liệu sẽ luôn tạo ra kết quả giống nhau mỗi khi chạy đoạn code này"
   ]
  },
  {
   "cell_type": "code",
   "execution_count": 12,
   "id": "d261c6eb",
   "metadata": {
    "execution": {
     "iopub.execute_input": "2023-11-15T17:20:48.588373Z",
     "iopub.status.busy": "2023-11-15T17:20:48.587900Z",
     "iopub.status.idle": "2023-11-15T17:20:48.595078Z",
     "shell.execute_reply": "2023-11-15T17:20:48.593883Z"
    },
    "papermill": {
     "duration": 0.02119,
     "end_time": "2023-11-15T17:20:48.598352",
     "exception": false,
     "start_time": "2023-11-15T17:20:48.577162",
     "status": "completed"
    },
    "tags": []
   },
   "outputs": [
    {
     "name": "stdout",
     "output_type": "stream",
     "text": [
      "1658    sif we have one good partnership going we will...\n",
      "1509    sounds like something that someone testing me ...\n",
      "3266    44 7732584351 do you want a new nokia 3510i co...\n",
      "5199             ugh my leg hurts musta overdid it on mon\n",
      "3217    urgent we are trying to contact u todays draw ...\n",
      "                              ...                        \n",
      "3046    hello yeah ive just got out of the bath and ne...\n",
      "1725                    there bold 2  ltgt  is that yours\n",
      "4079                   gam gone after outstanding innings\n",
      "2254                          lol enjoy role playing much\n",
      "2915    sorry u can not unsubscribe yet the mob offer ...\n",
      "Name: Message, Length: 4457, dtype: object\n"
     ]
    }
   ],
   "source": [
    "print(X_train)"
   ]
  },
  {
   "cell_type": "code",
   "execution_count": 13,
   "id": "65c3b2c8",
   "metadata": {
    "execution": {
     "iopub.execute_input": "2023-11-15T17:20:48.621135Z",
     "iopub.status.busy": "2023-11-15T17:20:48.620627Z",
     "iopub.status.idle": "2023-11-15T17:20:48.638791Z",
     "shell.execute_reply": "2023-11-15T17:20:48.637617Z"
    },
    "papermill": {
     "duration": 0.034241,
     "end_time": "2023-11-15T17:20:48.641783",
     "exception": false,
     "start_time": "2023-11-15T17:20:48.607542",
     "status": "completed"
    },
    "tags": []
   },
   "outputs": [],
   "source": [
    "# sử dụng CountVectorizer từ thư viện sklearn.feature_extraction.text \n",
    "#để chuyển đổi dữ liệu văn bản thành dạng ma trận đếm.\n",
    "#CountVectorizer: Là một phương pháp biểu diễn văn bản thành vectơ dựa trên tần suất xuất hiện của các từ. \n",
    "#Nó đếm số lần xuất hiện của từng từ trong từng văn bản và tạo ra một ma trận, \n",
    "#trong đó mỗi hàng đại diện cho một văn bản và mỗi cột đại diện cho một từ trong tập từ vựng \n",
    "#của toàn bộ tập dữ liệu.\n",
    "from sklearn.feature_extraction.text import CountVectorizer"
   ]
  },
  {
   "cell_type": "code",
   "execution_count": 14,
   "id": "3ee938fa",
   "metadata": {
    "execution": {
     "iopub.execute_input": "2023-11-15T17:20:48.664049Z",
     "iopub.status.busy": "2023-11-15T17:20:48.663518Z",
     "iopub.status.idle": "2023-11-15T17:20:48.951691Z",
     "shell.execute_reply": "2023-11-15T17:20:48.950653Z"
    },
    "papermill": {
     "duration": 0.302256,
     "end_time": "2023-11-15T17:20:48.954652",
     "exception": false,
     "start_time": "2023-11-15T17:20:48.652396",
     "status": "completed"
    },
    "tags": []
   },
   "outputs": [],
   "source": [
    "vect = CountVectorizer()\n",
    "X_train = vect.fit_transform(X_train)\n",
    "#Dòng này fit CountVectorizer với dữ liệu huấn luyện (X_train) và sau đó chuyển đổi dữ liệu huấn luyện \n",
    "#thành ma trận đếm. Quá trình \"fit\" sẽ xây dựng từ điển của các từ \n",
    "#từ dữ liệu huấn luyện và sau đó sử dụng từ điển này để chuyển đổi các văn bản thành ma trận đếm.\n",
    "X_test  = vect.transform(X_test)\n",
    "#Dòng này sử dụng từ điển đã học từ dữ liệu huấn luyện để chuyển đổi dữ liệu kiểm thử (X_test) thành ma trận đếm. \n",
    "#Điều này đảm bảo rằng cả dữ liệu huấn luyện và kiểm thử đều sử dụng cùng một bộ từ điển để biểu diễn.\n",
    "#Sau khi thực hiện hai dòng này, X_train và X_test sẽ là các ma trận đếm tần suất xuất hiện của các từ \n",
    "#trong văn bản tương ứng của tập huấn luyện và tập kiểm thử."
   ]
  },
  {
   "cell_type": "code",
   "execution_count": 15,
   "id": "f3e0d96b",
   "metadata": {
    "execution": {
     "iopub.execute_input": "2023-11-15T17:20:48.974937Z",
     "iopub.status.busy": "2023-11-15T17:20:48.974471Z",
     "iopub.status.idle": "2023-11-15T17:20:48.983842Z",
     "shell.execute_reply": "2023-11-15T17:20:48.982598Z"
    },
    "papermill": {
     "duration": 0.022889,
     "end_time": "2023-11-15T17:20:48.986675",
     "exception": false,
     "start_time": "2023-11-15T17:20:48.963786",
     "status": "completed"
    },
    "tags": []
   },
   "outputs": [
    {
     "name": "stdout",
     "output_type": "stream",
     "text": [
      "Ma trận X_train sau khi áp dụng CountVectorizer:\n",
      "  (0, 6594)\t1\n",
      "  (0, 7920)\t2\n",
      "  (0, 3557)\t1\n",
      "  (0, 5323)\t1\n",
      "  (0, 3367)\t1\n",
      "  (0, 5488)\t1\n",
      "  (0, 3354)\t1\n",
      "  (0, 8041)\t1\n",
      "  (0, 7160)\t1\n",
      "  (0, 4353)\t1\n",
      "  (1, 6794)\t1\n",
      "  (1, 4416)\t1\n",
      "  (1, 6757)\t1\n",
      "  (1, 7285)\t1\n",
      "  (1, 6752)\t1\n",
      "  (1, 7253)\t1\n",
      "  (1, 4721)\t1\n",
      "  (1, 8144)\t1\n",
      "  (1, 6356)\t1\n",
      "  (2, 545)\t1\n",
      "  (2, 690)\t1\n",
      "  (2, 2543)\t1\n",
      "  (2, 8301)\t1\n",
      "  (2, 7885)\t1\n",
      "  (2, 5098)\t1\n",
      "  :\t:\n",
      "  (4456, 6120)\t1\n",
      "  (4456, 7294)\t1\n",
      "  (4456, 5269)\t1\n",
      "  (4456, 1763)\t1\n",
      "  (4456, 5192)\t1\n",
      "  (4456, 3544)\t1\n",
      "  (4456, 934)\t1\n",
      "  (4456, 3605)\t1\n",
      "  (4456, 8288)\t1\n",
      "  (4456, 4876)\t1\n",
      "  (4456, 5276)\t1\n",
      "  (4456, 4924)\t1\n",
      "  (4456, 6782)\t1\n",
      "  (4456, 4819)\t1\n",
      "  (4456, 7948)\t1\n",
      "  (4456, 6127)\t1\n",
      "  (4456, 3925)\t1\n",
      "  (4456, 5657)\t1\n",
      "  (4456, 7675)\t1\n",
      "  (4456, 7243)\t1\n",
      "  (4456, 610)\t1\n",
      "  (4456, 7306)\t1\n",
      "  (4456, 5433)\t1\n",
      "  (4456, 6162)\t1\n",
      "  (4456, 2893)\t1\n",
      "\n",
      "Ma trận X_test sau khi áp dụng CountVectorizer:\n",
      "  (0, 26)\t1\n",
      "  (0, 152)\t1\n",
      "  (0, 383)\t1\n",
      "  (0, 556)\t1\n",
      "  (0, 692)\t1\n",
      "  (0, 863)\t1\n",
      "  (0, 1526)\t1\n",
      "  (0, 1725)\t1\n",
      "  (0, 1969)\t1\n",
      "  (0, 2022)\t1\n",
      "  (0, 2892)\t1\n",
      "  (0, 3109)\t1\n",
      "  (0, 3844)\t1\n",
      "  (0, 5685)\t1\n",
      "  (0, 5814)\t1\n",
      "  (0, 6576)\t1\n",
      "  (0, 6912)\t1\n",
      "  (0, 7426)\t1\n",
      "  (0, 7669)\t1\n",
      "  (0, 8315)\t1\n",
      "  (1, 934)\t1\n",
      "  (1, 1049)\t1\n",
      "  (1, 3109)\t1\n",
      "  (1, 3338)\t1\n",
      "  (1, 5142)\t2\n",
      "  :\t:\n",
      "  (1113, 380)\t1\n",
      "  (1113, 1260)\t1\n",
      "  (1113, 1388)\t1\n",
      "  (1113, 1526)\t1\n",
      "  (1113, 1725)\t1\n",
      "  (1113, 1740)\t1\n",
      "  (1113, 3195)\t1\n",
      "  (1113, 3544)\t1\n",
      "  (1113, 4304)\t1\n",
      "  (1113, 4429)\t1\n",
      "  (1113, 4878)\t1\n",
      "  (1113, 5231)\t1\n",
      "  (1113, 5330)\t1\n",
      "  (1113, 5816)\t1\n",
      "  (1113, 7702)\t1\n",
      "  (1113, 7748)\t1\n",
      "  (1113, 8069)\t1\n",
      "  (1113, 8315)\t1\n",
      "  (1114, 1688)\t1\n",
      "  (1114, 2530)\t1\n",
      "  (1114, 4115)\t1\n",
      "  (1114, 4319)\t1\n",
      "  (1114, 5326)\t1\n",
      "  (1114, 7309)\t1\n",
      "  (1114, 8176)\t1\n"
     ]
    }
   ],
   "source": [
    "print(\"Ma trận X_train sau khi áp dụng CountVectorizer:\")\n",
    "print(X_train)\n",
    "print(\"\\nMa trận X_test sau khi áp dụng CountVectorizer:\")\n",
    "print(X_test)"
   ]
  },
  {
   "cell_type": "code",
   "execution_count": 16,
   "id": "bb76e513",
   "metadata": {
    "execution": {
     "iopub.execute_input": "2023-11-15T17:20:49.006875Z",
     "iopub.status.busy": "2023-11-15T17:20:49.006355Z",
     "iopub.status.idle": "2023-11-15T17:20:49.013901Z",
     "shell.execute_reply": "2023-11-15T17:20:49.013047Z"
    },
    "papermill": {
     "duration": 0.020314,
     "end_time": "2023-11-15T17:20:49.015996",
     "exception": false,
     "start_time": "2023-11-15T17:20:48.995682",
     "status": "completed"
    },
    "tags": []
   },
   "outputs": [],
   "source": [
    "#sử dụng mô hình Naive Bayes đa thức (MultinomialNB) từ thư viện sklearn.naive_bayes \n",
    "#để huấn luyện mô hình phân loại\n",
    "from sklearn.naive_bayes import MultinomialNB"
   ]
  },
  {
   "cell_type": "code",
   "execution_count": 17,
   "id": "7f7b0553",
   "metadata": {
    "execution": {
     "iopub.execute_input": "2023-11-15T17:20:49.036903Z",
     "iopub.status.busy": "2023-11-15T17:20:49.036378Z",
     "iopub.status.idle": "2023-11-15T17:20:49.072932Z",
     "shell.execute_reply": "2023-11-15T17:20:49.071763Z"
    },
    "papermill": {
     "duration": 0.050386,
     "end_time": "2023-11-15T17:20:49.075701",
     "exception": false,
     "start_time": "2023-11-15T17:20:49.025315",
     "status": "completed"
    },
    "tags": []
   },
   "outputs": [
    {
     "data": {
      "text/html": [
       "<style>#sk-container-id-1 {color: black;background-color: white;}#sk-container-id-1 pre{padding: 0;}#sk-container-id-1 div.sk-toggleable {background-color: white;}#sk-container-id-1 label.sk-toggleable__label {cursor: pointer;display: block;width: 100%;margin-bottom: 0;padding: 0.3em;box-sizing: border-box;text-align: center;}#sk-container-id-1 label.sk-toggleable__label-arrow:before {content: \"▸\";float: left;margin-right: 0.25em;color: #696969;}#sk-container-id-1 label.sk-toggleable__label-arrow:hover:before {color: black;}#sk-container-id-1 div.sk-estimator:hover label.sk-toggleable__label-arrow:before {color: black;}#sk-container-id-1 div.sk-toggleable__content {max-height: 0;max-width: 0;overflow: hidden;text-align: left;background-color: #f0f8ff;}#sk-container-id-1 div.sk-toggleable__content pre {margin: 0.2em;color: black;border-radius: 0.25em;background-color: #f0f8ff;}#sk-container-id-1 input.sk-toggleable__control:checked~div.sk-toggleable__content {max-height: 200px;max-width: 100%;overflow: auto;}#sk-container-id-1 input.sk-toggleable__control:checked~label.sk-toggleable__label-arrow:before {content: \"▾\";}#sk-container-id-1 div.sk-estimator input.sk-toggleable__control:checked~label.sk-toggleable__label {background-color: #d4ebff;}#sk-container-id-1 div.sk-label input.sk-toggleable__control:checked~label.sk-toggleable__label {background-color: #d4ebff;}#sk-container-id-1 input.sk-hidden--visually {border: 0;clip: rect(1px 1px 1px 1px);clip: rect(1px, 1px, 1px, 1px);height: 1px;margin: -1px;overflow: hidden;padding: 0;position: absolute;width: 1px;}#sk-container-id-1 div.sk-estimator {font-family: monospace;background-color: #f0f8ff;border: 1px dotted black;border-radius: 0.25em;box-sizing: border-box;margin-bottom: 0.5em;}#sk-container-id-1 div.sk-estimator:hover {background-color: #d4ebff;}#sk-container-id-1 div.sk-parallel-item::after {content: \"\";width: 100%;border-bottom: 1px solid gray;flex-grow: 1;}#sk-container-id-1 div.sk-label:hover label.sk-toggleable__label {background-color: #d4ebff;}#sk-container-id-1 div.sk-serial::before {content: \"\";position: absolute;border-left: 1px solid gray;box-sizing: border-box;top: 0;bottom: 0;left: 50%;z-index: 0;}#sk-container-id-1 div.sk-serial {display: flex;flex-direction: column;align-items: center;background-color: white;padding-right: 0.2em;padding-left: 0.2em;position: relative;}#sk-container-id-1 div.sk-item {position: relative;z-index: 1;}#sk-container-id-1 div.sk-parallel {display: flex;align-items: stretch;justify-content: center;background-color: white;position: relative;}#sk-container-id-1 div.sk-item::before, #sk-container-id-1 div.sk-parallel-item::before {content: \"\";position: absolute;border-left: 1px solid gray;box-sizing: border-box;top: 0;bottom: 0;left: 50%;z-index: -1;}#sk-container-id-1 div.sk-parallel-item {display: flex;flex-direction: column;z-index: 1;position: relative;background-color: white;}#sk-container-id-1 div.sk-parallel-item:first-child::after {align-self: flex-end;width: 50%;}#sk-container-id-1 div.sk-parallel-item:last-child::after {align-self: flex-start;width: 50%;}#sk-container-id-1 div.sk-parallel-item:only-child::after {width: 0;}#sk-container-id-1 div.sk-dashed-wrapped {border: 1px dashed gray;margin: 0 0.4em 0.5em 0.4em;box-sizing: border-box;padding-bottom: 0.4em;background-color: white;}#sk-container-id-1 div.sk-label label {font-family: monospace;font-weight: bold;display: inline-block;line-height: 1.2em;}#sk-container-id-1 div.sk-label-container {text-align: center;}#sk-container-id-1 div.sk-container {/* jupyter's `normalize.less` sets `[hidden] { display: none; }` but bootstrap.min.css set `[hidden] { display: none !important; }` so we also need the `!important` here to be able to override the default hidden behavior on the sphinx rendered scikit-learn.org. See: https://github.com/scikit-learn/scikit-learn/issues/21755 */display: inline-block !important;position: relative;}#sk-container-id-1 div.sk-text-repr-fallback {display: none;}</style><div id=\"sk-container-id-1\" class=\"sk-top-container\"><div class=\"sk-text-repr-fallback\"><pre>MultinomialNB()</pre><b>In a Jupyter environment, please rerun this cell to show the HTML representation or trust the notebook. <br />On GitHub, the HTML representation is unable to render, please try loading this page with nbviewer.org.</b></div><div class=\"sk-container\" hidden><div class=\"sk-item\"><div class=\"sk-estimator sk-toggleable\"><input class=\"sk-toggleable__control sk-hidden--visually\" id=\"sk-estimator-id-1\" type=\"checkbox\" checked><label for=\"sk-estimator-id-1\" class=\"sk-toggleable__label sk-toggleable__label-arrow\">MultinomialNB</label><div class=\"sk-toggleable__content\"><pre>MultinomialNB()</pre></div></div></div></div></div>"
      ],
      "text/plain": [
       "MultinomialNB()"
      ]
     },
     "execution_count": 17,
     "metadata": {},
     "output_type": "execute_result"
    }
   ],
   "source": [
    "multNB = MultinomialNB()\n",
    "#MultinomialNB(): Là một mô hình Naive Bayes được sử dụng cho dữ liệu có biểu diễn đa thức, \n",
    "#chẳng hạn như trong bài toán phân loại văn bản, khi chúng ta làm việc với các ma trận đếm từ vựng.\n",
    "multNB.fit(X_train,Y_train)\n",
    "# Dòng này thực hiện quá trình huấn luyện mô hình. \n",
    "#Các tham số đầu vào là X_train (ma trận đếm tần suất xuất hiện của các từ trong văn bản) \n",
    "#và Y_train (nhãn tương ứng với mỗi văn bản trong tập huấn luyện). \n",
    "#Mô hình sẽ học cách dự đoán nhãn của các văn bản dựa trên tần suất xuất hiện của các từ.\n",
    "#Sau khi đoạn code này được thực hiện, multNB sẽ là một mô hình đã được huấn luyện \n",
    "#và có thể được sử dụng để dự đoán nhãn của các văn bản mới, chẳng hạn như dữ liệu trong X_test."
   ]
  },
  {
   "cell_type": "code",
   "execution_count": 18,
   "id": "71855468",
   "metadata": {
    "execution": {
     "iopub.execute_input": "2023-11-15T17:20:49.097615Z",
     "iopub.status.busy": "2023-11-15T17:20:49.097119Z",
     "iopub.status.idle": "2023-11-15T17:20:49.104505Z",
     "shell.execute_reply": "2023-11-15T17:20:49.103667Z"
    },
    "papermill": {
     "duration": 0.021335,
     "end_time": "2023-11-15T17:20:49.106921",
     "exception": false,
     "start_time": "2023-11-15T17:20:49.085586",
     "status": "completed"
    },
    "tags": []
   },
   "outputs": [],
   "source": [
    "Y_pred = multNB.predict(X_test)\n",
    "#Dòng code này sử dụng mô hình Naive Bayes đã được huấn luyện (multNB) để dự đoán nhãn của dữ liệu kiểm thử (X_test).\n",
    "#Đây là phương thức của mô hình Naive Bayes (MultinomialNB) trong thư viện scikit-learn (sklearn). \n",
    "#Phương thức này nhận đầu vào là dữ liệu kiểm thử (X_test), tức là ma trận đặc trưng của các văn bản \n",
    "#mà mô hình chưa nhìn thấy khi huấn luyện.\n",
    "\n",
    "#Khi được gọi, phương thức này trả về một mảng các dự đoán cho nhãn tương ứng với từng mẫu trong X_test. \n",
    "#Điều này có nghĩa là Y_pred (biến được gán cho kết quả của phương thức) chứa các dự đoán của mô hình \n",
    "#với đầu vào là dữ liệu kiểm thử."
   ]
  },
  {
   "cell_type": "code",
   "execution_count": 19,
   "id": "21c4548a",
   "metadata": {
    "execution": {
     "iopub.execute_input": "2023-11-15T17:20:49.128587Z",
     "iopub.status.busy": "2023-11-15T17:20:49.127694Z",
     "iopub.status.idle": "2023-11-15T17:20:49.134230Z",
     "shell.execute_reply": "2023-11-15T17:20:49.133076Z"
    },
    "papermill": {
     "duration": 0.02091,
     "end_time": "2023-11-15T17:20:49.137337",
     "exception": false,
     "start_time": "2023-11-15T17:20:49.116427",
     "status": "completed"
    },
    "tags": []
   },
   "outputs": [
    {
     "name": "stdout",
     "output_type": "stream",
     "text": [
      "Ma trận dự đoán (Y_pred):\n",
      "['spam' 'ham' 'spam' ... 'ham' 'spam' 'ham']\n"
     ]
    }
   ],
   "source": [
    "print(\"Ma trận dự đoán (Y_pred):\")\n",
    "print(Y_pred)"
   ]
  },
  {
   "cell_type": "code",
   "execution_count": 20,
   "id": "dfeb356b",
   "metadata": {
    "execution": {
     "iopub.execute_input": "2023-11-15T17:20:49.159142Z",
     "iopub.status.busy": "2023-11-15T17:20:49.157963Z",
     "iopub.status.idle": "2023-11-15T17:20:49.163458Z",
     "shell.execute_reply": "2023-11-15T17:20:49.162379Z"
    },
    "papermill": {
     "duration": 0.018994,
     "end_time": "2023-11-15T17:20:49.165963",
     "exception": false,
     "start_time": "2023-11-15T17:20:49.146969",
     "status": "completed"
    },
    "tags": []
   },
   "outputs": [],
   "source": [
    "from sklearn.metrics import accuracy_score\n",
    "#Hàm accuracy_score được sử dụng để tính toán độ chính xác của mô hình."
   ]
  },
  {
   "cell_type": "code",
   "execution_count": 21,
   "id": "c799d6d3",
   "metadata": {
    "execution": {
     "iopub.execute_input": "2023-11-15T17:20:49.187547Z",
     "iopub.status.busy": "2023-11-15T17:20:49.187091Z",
     "iopub.status.idle": "2023-11-15T17:20:49.197788Z",
     "shell.execute_reply": "2023-11-15T17:20:49.196650Z"
    },
    "papermill": {
     "duration": 0.024778,
     "end_time": "2023-11-15T17:20:49.200397",
     "exception": false,
     "start_time": "2023-11-15T17:20:49.175619",
     "status": "completed"
    },
    "tags": []
   },
   "outputs": [
    {
     "name": "stdout",
     "output_type": "stream",
     "text": [
      "The accuracy score of this model is 0.9883408071748879\n"
     ]
    }
   ],
   "source": [
    "print(f'The accuracy score of this model is {accuracy_score(Y_test,Y_pred)}')\n",
    "# In ra màn hình độ chính xác của mô hình. Độ chính xác được tính bằng cách so sánh \n",
    "#giữa nhãn thực tế (Y_test) và nhãn dự đoán (Y_pred). Hàm accuracy_score trả về tỷ lệ phần trăm \n",
    "#của các dự đoán chính xác trên tổng số mẫu."
   ]
  },
  {
   "cell_type": "code",
   "execution_count": 22,
   "id": "819f3ca1",
   "metadata": {
    "execution": {
     "iopub.execute_input": "2023-11-15T17:20:49.222300Z",
     "iopub.status.busy": "2023-11-15T17:20:49.221822Z",
     "iopub.status.idle": "2023-11-15T17:20:49.229890Z",
     "shell.execute_reply": "2023-11-15T17:20:49.228680Z"
    },
    "papermill": {
     "duration": 0.021795,
     "end_time": "2023-11-15T17:20:49.232142",
     "exception": false,
     "start_time": "2023-11-15T17:20:49.210347",
     "status": "completed"
    },
    "tags": []
   },
   "outputs": [
    {
     "name": "stdout",
     "output_type": "stream",
     "text": [
      "Email này được dự đoán là ham.\n"
     ]
    }
   ],
   "source": [
    "# Nhập một email mẫu để kiểm tra\n",
    "sample_email = \"euuwiw find a words ....,niwoe!\"\n",
    "\n",
    "# Tiền xử lý email mẫu\n",
    "sample_email = preprocess_text(sample_email)\n",
    "sample_email_vectorized = vect.transform([sample_email])\n",
    "\n",
    "# Dự đoán xem email có phải là spam hay không\n",
    "prediction = multNB.predict(sample_email_vectorized)\n",
    "\n",
    "# In kết quả\n",
    "if prediction[0] == 'spam':\n",
    "    print(\"Email này được dự đoán là spam.\")\n",
    "else:\n",
    "    print(\"Email này được dự đoán là ham.\")\n"
   ]
  }
 ],
 "metadata": {
  "kaggle": {
   "accelerator": "none",
   "dataSources": [
    {
     "datasetId": 1422521,
     "sourceId": 2355807,
     "sourceType": "datasetVersion"
    }
   ],
   "dockerImageVersionId": 30579,
   "isGpuEnabled": false,
   "isInternetEnabled": false,
   "language": "python",
   "sourceType": "notebook"
  },
  "kernelspec": {
   "display_name": "Python 3",
   "language": "python",
   "name": "python3"
  },
  "language_info": {
   "codemirror_mode": {
    "name": "ipython",
    "version": 3
   },
   "file_extension": ".py",
   "mimetype": "text/x-python",
   "name": "python",
   "nbconvert_exporter": "python",
   "pygments_lexer": "ipython3",
   "version": "3.10.12"
  },
  "papermill": {
   "default_parameters": {},
   "duration": 7.083791,
   "end_time": "2023-11-15T17:20:50.064420",
   "environment_variables": {},
   "exception": null,
   "input_path": "__notebook__.ipynb",
   "output_path": "__notebook__.ipynb",
   "parameters": {},
   "start_time": "2023-11-15T17:20:42.980629",
   "version": "2.4.0"
  }
 },
 "nbformat": 4,
 "nbformat_minor": 5
}
